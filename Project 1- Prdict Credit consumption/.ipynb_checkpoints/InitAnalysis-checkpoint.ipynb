{
 "cells": [
  {
   "cell_type": "code",
   "execution_count": 32,
   "id": "0a19b84a-973f-40fc-8b15-64b9268a4a16",
   "metadata": {},
   "outputs": [],
   "source": [
    "import pandas as pd\n",
    "import numpy as np\n",
    "import matplotlib as plt\n",
    "from ydata_profiling import ProfileReport"
   ]
  },
  {
   "cell_type": "code",
   "execution_count": null,
   "id": "96133e70-fec7-417c-a72b-aec42c87ce33",
   "metadata": {},
   "outputs": [
    {
     "data": {
      "application/vnd.jupyter.widget-view+json": {
       "model_id": "d215282be31d4523b5fc333d98479122",
       "version_major": 2,
       "version_minor": 0
      },
      "text/plain": [
       "Summarize dataset:   0%|          | 0/5 [00:00<?, ?it/s]"
      ]
     },
     "metadata": {},
     "output_type": "display_data"
    },
    {
     "data": {
      "application/vnd.jupyter.widget-view+json": {
       "model_id": "34135421346c4005920cea47ad633d94",
       "version_major": 2,
       "version_minor": 0
      },
      "text/plain": [
       "Generate report structure:   0%|          | 0/1 [00:00<?, ?it/s]"
      ]
     },
     "metadata": {},
     "output_type": "display_data"
    }
   ],
   "source": [
    "cust_bvr=pd.read_excel(\"CustomerBehaviorData.xlsx\")\n",
    "#credit_cons=pd.read_excel(\"CreditConsumptionData.xlsx\")\n",
    "cust_demo =pd.read_excel(\"CustomerDemographics.xlsx\")\n",
    "cust_360 =cust_demo.merge(cust_bvr,on=\"ID\")\n",
    "cust_360\n",
    "#profile = ProfileReport(cust_360, title=\"Customer Report\")\n",
    "\n",
    "#profile.to_file(\"CustomerProfile.html\")"
   ]
  },
  {
   "cell_type": "code",
   "execution_count": 28,
   "id": "0ef19015-90cb-419a-b78e-7eb3a58763e6",
   "metadata": {},
   "outputs": [
    {
     "data": {
      "text/plain": [
       "<bound method DataFrame.info of           ID  cc_cons_apr  dc_cons_apr  cc_cons_may  dc_cons_may  cc_cons_jun  \\\n",
       "0      17051     3412.600      2909.34      1077.36      3084.50      4615.97   \n",
       "1      11491    18133.760      3877.00      6123.78      5597.43     64620.00   \n",
       "2       7433     6363.650       735.49      8799.00     13768.00     38266.00   \n",
       "3      14606    12765.660      4429.16     16745.86      6360.00     29063.97   \n",
       "4       8381    27819.700      1944.00      7006.50      2228.50      1096.25   \n",
       "...      ...          ...          ...          ...          ...          ...   \n",
       "19995  12512     4641.500      5979.58      6008.61      4410.00     41743.00   \n",
       "19996  14224     4994.450      2805.37     23214.00      5870.00      1041.00   \n",
       "19997  18740     3262.145      2871.00      7335.25     11774.04      4130.00   \n",
       "19998  18134    12824.010      4866.00     12242.48       284.00     15132.77   \n",
       "19999  12413    26218.000      6615.00      2832.00      4642.00      1314.64   \n",
       "\n",
       "       dc_cons_jun  cc_count_apr  cc_count_may  cc_count_jun  ...  emi_active  \\\n",
       "0          6693.00          19.0            10             2  ...     3448.84   \n",
       "1          6117.00           4.0            60             1  ...     3812.69   \n",
       "2          2638.00           2.0            83            47  ...     9432.90   \n",
       "3          3711.00          12.0             2            16  ...      144.61   \n",
       "4          1065.00          15.0            13            61  ...     1887.89   \n",
       "...            ...           ...           ...           ...  ...         ...   \n",
       "19995      1884.00          26.0             1             4  ...     7870.88   \n",
       "19996      1008.73          37.0            56            50  ...     3668.30   \n",
       "19997      1413.00          12.0            77             1  ...     5450.34   \n",
       "19998     37911.00          67.0             1             4  ...       59.29   \n",
       "19999     11355.00           7.0             1            84  ...      793.41   \n",
       "\n",
       "       account_type  gender  age  Income  Emp_Tenure_Years  Tenure_with_Bank  \\\n",
       "0           current       M   30  MEDIUM               7.0                 5   \n",
       "1           current       M   37     LOW              10.2                 8   \n",
       "2           current       M   33  MEDIUM               3.9                 3   \n",
       "3           current       M   63     LOW              25.8                 6   \n",
       "4            saving       M   33  MEDIUM               6.5                 7   \n",
       "...             ...     ...  ...     ...               ...               ...   \n",
       "19995       current       M   35  MEDIUM              13.5                 1   \n",
       "19996       current       M   53  MEDIUM               9.9                 7   \n",
       "19997       current       M   62    HIGH              37.8                 8   \n",
       "19998       current       M   34  MEDIUM              12.6                 4   \n",
       "19999       current       M   27     LOW               3.5                 8   \n",
       "\n",
       "       region_code  NetBanking_Flag  Avg_days_between_transaction  \n",
       "0            956.0                1                          20.0  \n",
       "1            966.0                1                           5.0  \n",
       "2            505.0                1                          15.0  \n",
       "3            631.0                0                          15.0  \n",
       "4            698.0                0                           9.0  \n",
       "...            ...              ...                           ...  \n",
       "19995        523.0                0                           7.0  \n",
       "19996        723.0                1                           2.0  \n",
       "19997        863.0                1                          16.0  \n",
       "19998        882.0                0                          13.0  \n",
       "19999        447.0                1                           NaN  \n",
       "\n",
       "[20000 rows x 48 columns]>"
      ]
     },
     "execution_count": 28,
     "metadata": {},
     "output_type": "execute_result"
    }
   ],
   "source": []
  },
  {
   "cell_type": "code",
   "execution_count": 23,
   "id": "72d0a72d-d6c5-43a9-b548-2b973835e5ee",
   "metadata": {},
   "outputs": [
    {
     "data": {
      "text/plain": [
       "<bound method NDFrame.describe of           ID account_type gender  age  Income  Emp_Tenure_Years  \\\n",
       "0      19427      current      M   63  MEDIUM              30.1   \n",
       "1      16150      current      M   36  MEDIUM              14.4   \n",
       "2      11749      current      F   28  MEDIUM               4.8   \n",
       "3      11635      current      M   32  MEDIUM               9.6   \n",
       "4       8908      current      M   32    HIGH              12.0   \n",
       "...      ...          ...    ...  ...     ...               ...   \n",
       "19995   1270      current      F   66  MEDIUM              32.2   \n",
       "19996  15992      current      M   53  MEDIUM              19.8   \n",
       "19997   7081      current      F   66  MEDIUM              18.4   \n",
       "19998   6821      current      M   32     LOW               6.0   \n",
       "19999  13730      current      F  118     LOW              78.4   \n",
       "\n",
       "       Tenure_with_Bank  region_code  NetBanking_Flag  \\\n",
       "0                    10        628.0                1   \n",
       "1                    10        656.0                0   \n",
       "2                    10        314.0                1   \n",
       "3                     2        614.0                1   \n",
       "4                     7        750.0                1   \n",
       "...                 ...          ...              ...   \n",
       "19995                 6        354.0                1   \n",
       "19996                 5        809.0                0   \n",
       "19997                 1        466.0                0   \n",
       "19998                 8        619.0                0   \n",
       "19999                 7        882.0                1   \n",
       "\n",
       "       Avg_days_between_transaction  \n",
       "0                               5.0  \n",
       "1                              12.0  \n",
       "2                              13.0  \n",
       "3                              19.0  \n",
       "4                              18.0  \n",
       "...                             ...  \n",
       "19995                           7.0  \n",
       "19996                          14.0  \n",
       "19997                          10.0  \n",
       "19998                          17.0  \n",
       "19999                          10.0  \n",
       "\n",
       "[20000 rows x 10 columns]>"
      ]
     },
     "execution_count": 23,
     "metadata": {},
     "output_type": "execute_result"
    }
   ],
   "source": [
    "cust_demo.describe"
   ]
  },
  {
   "cell_type": "code",
   "execution_count": null,
   "id": "9353b018-fa12-4849-bc12-cc5cf3b69528",
   "metadata": {},
   "outputs": [],
   "source": []
  }
 ],
 "metadata": {
  "kernelspec": {
   "display_name": "Python 3 (ipykernel)",
   "language": "python",
   "name": "python3"
  },
  "language_info": {
   "codemirror_mode": {
    "name": "ipython",
    "version": 3
   },
   "file_extension": ".py",
   "mimetype": "text/x-python",
   "name": "python",
   "nbconvert_exporter": "python",
   "pygments_lexer": "ipython3",
   "version": "3.10.9"
  }
 },
 "nbformat": 4,
 "nbformat_minor": 5
}
